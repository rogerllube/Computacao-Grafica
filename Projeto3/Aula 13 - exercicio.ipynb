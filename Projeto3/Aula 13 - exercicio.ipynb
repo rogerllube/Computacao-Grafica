{
 "cells": [
  {
   "cell_type": "markdown",
   "metadata": {},
   "source": [
    "# Prática - Mapeamento de Texturas + MVP"
   ]
  },
  {
   "cell_type": "markdown",
   "metadata": {},
   "source": [
    "### Primeiro, vamos importar as bibliotecas necessárias."
   ]
  },
  {
   "cell_type": "code",
   "execution_count": null,
   "metadata": {},
   "outputs": [],
   "source": [
    "import glfw\n",
    "from OpenGL.GL import *\n",
    "import numpy as np\n",
    "import glm\n",
    "import math\n",
    "from numpy import random\n",
    "from PIL import Image\n",
    "\n",
    "from shader_s import Shader\n",
    "from Projeto2.objetos.objeto import Objeto\n",
    "from file_loader import Loader"
   ]
  },
  {
   "cell_type": "markdown",
   "metadata": {},
   "source": [
    "### Inicializando janela"
   ]
  },
  {
   "cell_type": "code",
   "execution_count": 15,
   "metadata": {},
   "outputs": [],
   "source": [
    "glfw.init()\n",
    "glfw.window_hint(glfw.VISIBLE, glfw.FALSE)\n",
    "\n",
    "altura = 700\n",
    "largura = 700\n",
    "\n",
    "window = glfw.create_window(largura, altura, \"Programa\", None, None)\n",
    "\n",
    "if (window == None):\n",
    "    print(\"Failed to create GLFW window\")\n",
    "    glfwTerminate()\n",
    "    \n",
    "glfw.make_context_current(window)\n"
   ]
  },
  {
   "cell_type": "markdown",
   "metadata": {},
   "source": [
    "### Constroi e compila os shaders. Também \"linka\" eles ao programa\n",
    "\n",
    "#### Novidade aqui: modularização dessa parte do código --- temos agora uma classe e arquivos próprios para os shaders (vs e fs)\n",
    "Créditos: https://learnopengl.com"
   ]
  },
  {
   "cell_type": "code",
   "execution_count": 16,
   "metadata": {},
   "outputs": [],
   "source": [
    "ourShader = Shader(\"vertex_shader.vs\", \"fragment_shader.fs\")\n",
    "ourShader.use()\n",
    "\n",
    "program = ourShader.getProgram()"
   ]
  },
  {
   "cell_type": "markdown",
   "metadata": {},
   "source": [
    "### Preparando dados para enviar a GPU\n",
    "\n",
    "Até aqui, compilamos nossos Shaders para que a GPU possa processá-los.\n",
    "\n",
    "Por outro lado, as informações de vértices geralmente estão na CPU e devem ser transmitidas para a GPU.\n"
   ]
  },
  {
   "cell_type": "markdown",
   "metadata": {},
   "source": [
    "### Carregando Modelos (vértices e texturas) a partir de Arquivos\n",
    "\n",
    "O file_loader carrega modelos a partir de arquivos no formato WaveFront (.obj).\n",
    "\n",
    "Para saber mais sobre o modelo, acesse: https://en.wikipedia.org/wiki/Wavefront_.obj_file"
   ]
  },
  {
   "cell_type": "code",
   "execution_count": 17,
   "metadata": {},
   "outputs": [],
   "source": [
    "loader = Loader()"
   ]
  },
  {
   "cell_type": "markdown",
   "metadata": {},
   "source": [
    "### Vamos carregar cada modelo e definir funções para desenhá-los"
   ]
  },
  {
   "cell_type": "code",
   "execution_count": 18,
   "metadata": {},
   "outputs": [
    {
     "name": "stdout",
     "output_type": "stream",
     "text": [
      "Processando modelo objetos/caixa/caixa.obj. Vertice inicial: 0\n",
      "test\n",
      "Processando modelo objetos/caixa/caixa.obj. Vertice final: 36\n"
     ]
    }
   ],
   "source": [
    "#Caixa\n",
    "caixa = Objeto(loader)\n",
    "caixa.translation = glm.vec3(0, 0, -20)\n",
    "caixa.rotation_angle = 100\n",
    "caixa.rotation_axis = glm.vec3(0, 0, 1)\n",
    "caixa.scale = glm.vec3(1.5, 1.5, 1.5)\n",
    "caixa.load_model('objetos/caixa/caixa.obj','objetos/caixa/caixa.jpg')\n",
    "caixa.update_transform()\n"
   ]
  },
  {
   "cell_type": "markdown",
   "metadata": {},
   "source": [
    "### Para enviar nossos dados da CPU para a GPU, precisamos requisitar dois slots (buffers): um para os vértices e outro para as texturas."
   ]
  },
  {
   "cell_type": "code",
   "execution_count": 19,
   "metadata": {},
   "outputs": [],
   "source": [
    "buffer_VBO = glGenBuffers(2)"
   ]
  },
  {
   "cell_type": "markdown",
   "metadata": {},
   "source": [
    "### Enviando coordenadas de vértices para a GPU\n",
    "\n",
    "Veja os parâmetros da função glBufferData [https://www.khronos.org/registry/OpenGL-Refpages/gl4/html/glBufferData.xhtml]"
   ]
  },
  {
   "cell_type": "code",
   "execution_count": 20,
   "metadata": {},
   "outputs": [],
   "source": [
    "vertices = np.zeros(len(loader.vertices_list), [(\"position\", np.float32, 3)])\n",
    "vertices['position'] = loader.vertices_list\n",
    "\n",
    "\n",
    "# Upload data\n",
    "glBindBuffer(GL_ARRAY_BUFFER, buffer_VBO[0])\n",
    "glBufferData(GL_ARRAY_BUFFER, vertices.nbytes, vertices, GL_STATIC_DRAW)\n",
    "stride = vertices.strides[0]\n",
    "offset = ctypes.c_void_p(0)\n",
    "loc_vertices = glGetAttribLocation(program, \"position\")\n",
    "glEnableVertexAttribArray(loc_vertices)\n",
    "glVertexAttribPointer(loc_vertices, 3, GL_FLOAT, False, stride, offset)"
   ]
  },
  {
   "cell_type": "markdown",
   "metadata": {},
   "source": [
    "### Enviando coordenadas de textura para a GPU"
   ]
  },
  {
   "cell_type": "code",
   "execution_count": 21,
   "metadata": {},
   "outputs": [],
   "source": [
    "textures = np.zeros(len(loader.textures_coord_list), [(\"position\", np.float32, 2)]) # duas coordenadas\n",
    "textures['position'] = loader.textures_coord_list\n",
    "\n",
    "\n",
    "# Upload data\n",
    "glBindBuffer(GL_ARRAY_BUFFER, buffer_VBO[1])\n",
    "glBufferData(GL_ARRAY_BUFFER, textures.nbytes, textures, GL_STATIC_DRAW)\n",
    "stride = textures.strides[0]\n",
    "offset = ctypes.c_void_p(0)\n",
    "loc_texture_coord = glGetAttribLocation(program, \"texture_coord\")\n",
    "\n",
    "glEnableVertexAttribArray(loc_texture_coord)\n",
    "glVertexAttribPointer(loc_texture_coord, 2, GL_FLOAT, False, stride, offset)\n"
   ]
  },
  {
   "cell_type": "markdown",
   "metadata": {},
   "source": [
    "### Eventos para modificar a posição da câmera.\n",
    "\n",
    "* Usei as teclas A, S, D e W para movimentação no espaço tridimensional\n",
    "* Usei a posição do mouse para \"direcionar\" a câmera"
   ]
  },
  {
   "cell_type": "code",
   "execution_count": 22,
   "metadata": {},
   "outputs": [],
   "source": [
    "#cameraPos   = glm.vec3(0.0,  0.0,  1.0);\n",
    "#cameraFront = glm.vec3(0.0,  0.0, -1.0);\n",
    "#cameraUp    = glm.vec3(0.0,  1.0,  0.0);\n",
    "\n",
    "# camera\n",
    "cameraPos   = glm.vec3(0.0, 0.0, 3.0)\n",
    "cameraFront = glm.vec3(0.0, 0.0, -1.0)\n",
    "cameraUp    = glm.vec3(0.0, 1.0, 0.0)\n",
    "\n",
    "firstMouse = True\n",
    "yaw   = -90.0\t# yaw is initialized to -90.0 degrees since a yaw of 0.0 results in a direction vector pointing to the right so we initially rotate a bit to the left.\n",
    "pitch =  0.0\n",
    "lastX =  largura / 2.0\n",
    "lastY =  altura / 2.0\n",
    "fov   =  45.0\n",
    "\n",
    "# timing\n",
    "deltaTime = 0.0\t# time between current frame and last frame\n",
    "lastFrame = 0.0\n",
    "\n",
    "\n",
    "firstMouse = True\n",
    "yaw = -90.0 \n",
    "pitch = 0.0\n",
    "lastX =  largura/2\n",
    "lastY =  altura/2\n",
    "\n",
    "\n",
    "def key_event(window,key,scancode,action,mods):\n",
    "    global cameraPos, cameraFront, cameraUp, polygonal_mode\n",
    "\n",
    "    if key == glfw.KEY_ESCAPE and action == glfw.PRESS:\n",
    "        glfw.set_window_should_close(window, True)\n",
    "    \n",
    "    cameraSpeed = 50 * deltaTime\n",
    "    if key == glfw.KEY_W and (action == glfw.PRESS or action == glfw.REPEAT):\n",
    "        cameraPos += cameraSpeed * cameraFront\n",
    "    \n",
    "    if key == glfw.KEY_S and (action == glfw.PRESS or action == glfw.REPEAT):\n",
    "        cameraPos -= cameraSpeed * cameraFront\n",
    "    \n",
    "    if key == glfw.KEY_A and (action == glfw.PRESS or action == glfw.REPEAT):\n",
    "        cameraPos -= glm.normalize(glm.cross(cameraFront, cameraUp)) * cameraSpeed\n",
    "        \n",
    "    if key == glfw.KEY_D and (action == glfw.PRESS or action == glfw.REPEAT):\n",
    "        cameraPos += glm.normalize(glm.cross(cameraFront, cameraUp)) * cameraSpeed\n",
    "\n",
    "    if key == glfw.KEY_P and action == glfw.PRESS:\n",
    "        polygonal_mode = not polygonal_mode\n",
    "        \n",
    "\n",
    "def framebuffer_size_callback(window, largura, altura):\n",
    "\n",
    "    # make sure the viewport matches the new window dimensions note that width and \n",
    "    # height will be significantly larger than specified on retina displays.\n",
    "    glViewport(0, 0, largura, altura)\n",
    "\n",
    "# glfw: whenever the mouse moves, this callback is called\n",
    "# -------------------------------------------------------\n",
    "def mouse_callback(window, xpos, ypos):\n",
    "    global cameraFront, lastX, lastY, firstMouse, yaw, pitch\n",
    "   \n",
    "    if (firstMouse):\n",
    "\n",
    "        lastX = xpos\n",
    "        lastY = ypos\n",
    "        firstMouse = False\n",
    "\n",
    "    xoffset = xpos - lastX\n",
    "    yoffset = lastY - ypos # reversed since y-coordinates go from bottom to top\n",
    "    lastX = xpos\n",
    "    lastY = ypos\n",
    "\n",
    "    sensitivity = 0.1 # change this value to your liking\n",
    "    xoffset *= sensitivity\n",
    "    yoffset *= sensitivity\n",
    "\n",
    "    yaw += xoffset\n",
    "    pitch += yoffset\n",
    "\n",
    "    # make sure that when pitch is out of bounds, screen doesn't get flipped\n",
    "    if (pitch > 89.0):\n",
    "        pitch = 89.0\n",
    "    if (pitch < -89.0):\n",
    "        pitch = -89.0\n",
    "\n",
    "    front = glm.vec3()\n",
    "    front.x = glm.cos(glm.radians(yaw)) * glm.cos(glm.radians(pitch))\n",
    "    front.y = glm.sin(glm.radians(pitch))\n",
    "    front.z = glm.sin(glm.radians(yaw)) * glm.cos(glm.radians(pitch))\n",
    "    cameraFront = glm.normalize(front)\n",
    "\n",
    "# glfw: whenever the mouse scroll wheel scrolls, this callback is called\n",
    "# ----------------------------------------------------------------------\n",
    "def scroll_callback(window, xoffset, yoffset):\n",
    "    global fov\n",
    "\n",
    "    fov -= yoffset\n",
    "    if (fov < 1.0):\n",
    "        fov = 1.0\n",
    "    if (fov > 45.0):\n",
    "        fov = 45.0\n",
    "    \n",
    "glfw.set_key_callback(window,key_event)\n",
    "glfw.set_framebuffer_size_callback(window, framebuffer_size_callback)\n",
    "glfw.set_cursor_pos_callback(window, mouse_callback)\n",
    "glfw.set_scroll_callback(window, scroll_callback)\n",
    "\n",
    "# tell GLFW to capture our mouse\n",
    "glfw.set_input_mode(window, glfw.CURSOR, glfw.CURSOR_DISABLED)"
   ]
  },
  {
   "cell_type": "markdown",
   "metadata": {},
   "source": [
    "### Matrizes View e Projection"
   ]
  },
  {
   "cell_type": "code",
   "execution_count": 23,
   "metadata": {},
   "outputs": [],
   "source": [
    "def view():\n",
    "    global cameraPos, cameraFront, cameraUp\n",
    "    mat_view = glm.lookAt(cameraPos, cameraPos + cameraFront, cameraUp);\n",
    "    mat_view = np.array(mat_view)\n",
    "    return mat_view\n",
    "\n",
    "def projection():\n",
    "    global altura, largura\n",
    "    # perspective parameters: fovy, aspect, near, far\n",
    "    mat_projection = glm.perspective(glm.radians(fov), largura/altura, 0.1, 100.0)\n",
    "\n",
    "    \n",
    "    mat_projection = np.array(mat_projection)    \n",
    "    return mat_projection"
   ]
  },
  {
   "cell_type": "markdown",
   "metadata": {},
   "source": [
    "### Nesse momento, nós exibimos a janela!\n"
   ]
  },
  {
   "cell_type": "code",
   "execution_count": 24,
   "metadata": {},
   "outputs": [],
   "source": [
    "glfw.show_window(window)"
   ]
  },
  {
   "cell_type": "markdown",
   "metadata": {},
   "source": [
    "### Loop principal da janela."
   ]
  },
  {
   "cell_type": "code",
   "execution_count": 25,
   "metadata": {},
   "outputs": [],
   "source": [
    "polygonal_mode = False \n",
    "def set_polygonal_mode():\n",
    "    if polygonal_mode:\n",
    "        glPolygonMode(GL_FRONT_AND_BACK,GL_LINE)\n",
    "    else:\n",
    "        glPolygonMode(GL_FRONT_AND_BACK,GL_FILL)\n",
    "\n",
    "def set_view():\n",
    "    mat_view = view()\n",
    "    loc_view = glGetUniformLocation(program, \"view\")\n",
    "    glUniformMatrix4fv(loc_view, 1, GL_TRUE, mat_view)\n",
    "\n",
    "def set_projection():\n",
    "    mat_projection = projection()\n",
    "    loc_projection = glGetUniformLocation(program, \"projection\")\n",
    "    glUniformMatrix4fv(loc_projection, 1, GL_TRUE, mat_projection)    \n",
    "\n"
   ]
  },
  {
   "cell_type": "code",
   "execution_count": 26,
   "metadata": {},
   "outputs": [],
   "source": [
    "glEnable(GL_DEPTH_TEST) ### importante para 3D\n",
    "\n",
    "while not glfw.window_should_close(window):\n",
    "\n",
    "    currentFrame = glfw.get_time()\n",
    "    deltaTime = currentFrame - lastFrame\n",
    "    lastFrame = currentFrame\n",
    "\n",
    "    glfw.poll_events() \n",
    "       \n",
    "    glClear(GL_COLOR_BUFFER_BIT | GL_DEPTH_BUFFER_BIT)\n",
    "    \n",
    "    glClearColor(1.0, 1.0, 1.0, 1.0)\n",
    "\n",
    "    set_polygonal_mode()\n",
    "\n",
    "\n",
    "\n",
    "    caixa.draw(program)\n",
    "\n",
    "    \n",
    "    \n",
    "    set_view()\n",
    "    set_projection()\n",
    "    \n",
    "    glfw.swap_buffers(window)\n",
    "\n",
    "glfw.terminate()"
   ]
  }
 ],
 "metadata": {
  "finalized": {
   "timestamp": 1583114796072,
   "trusted": true
  },
  "kernelspec": {
   "display_name": "Python 3",
   "language": "python",
   "name": "python3"
  },
  "language_info": {
   "codemirror_mode": {
    "name": "ipython",
    "version": 3
   },
   "file_extension": ".py",
   "mimetype": "text/x-python",
   "name": "python",
   "nbconvert_exporter": "python",
   "pygments_lexer": "ipython3",
   "version": "3.12.3"
  }
 },
 "nbformat": 4,
 "nbformat_minor": 4
}
