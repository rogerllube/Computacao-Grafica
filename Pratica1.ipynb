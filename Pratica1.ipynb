{
 "cells": [
  {
   "cell_type": "markdown",
   "metadata": {},
   "source": [
    "# Aula05.Ex01 - Exemplo - Cubo - Transformação Geométrica 3D"
   ]
  },
  {
   "cell_type": "markdown",
   "metadata": {},
   "source": [
    "### Primeiro, vamos importar as bibliotecas necessárias."
   ]
  },
  {
   "cell_type": "code",
   "execution_count": 64,
   "metadata": {},
   "outputs": [],
   "source": [
    "import glfw\n",
    "from OpenGL.GL import *\n",
    "import OpenGL.GL.shaders\n",
    "import numpy as np\n",
    "import glm\n",
    "import math\n",
    "import time"
   ]
  },
  {
   "cell_type": "markdown",
   "metadata": {},
   "source": [
    "### Inicializando janela"
   ]
  },
  {
   "cell_type": "code",
   "execution_count": 65,
   "metadata": {},
   "outputs": [],
   "source": [
    "glfw.init()\n",
    "glfw.window_hint(glfw.VISIBLE, glfw.FALSE);\n",
    "window = glfw.create_window(700, 700, \"Programa\", None, None)\n",
    "\n",
    "if (window == None):\n",
    "    print(\"Failed to create GLFW window\")\n",
    "    glfwTerminate()\n",
    "    \n",
    "glfw.make_context_current(window)"
   ]
  },
  {
   "cell_type": "markdown",
   "metadata": {},
   "source": [
    "### Shaders"
   ]
  },
  {
   "cell_type": "markdown",
   "metadata": {},
   "source": [
    "Note que agora usamos vec3, já que estamos em 3D."
   ]
  },
  {
   "cell_type": "code",
   "execution_count": 66,
   "metadata": {},
   "outputs": [],
   "source": [
    "vertex_code = \"\"\"\n",
    "        attribute vec3 position;\n",
    "        uniform mat4 mat_transformation;\n",
    "        void main(){\n",
    "            gl_Position = mat_transformation * vec4(position,1.0);\n",
    "        }\n",
    "        \"\"\""
   ]
  },
  {
   "cell_type": "code",
   "execution_count": 67,
   "metadata": {},
   "outputs": [],
   "source": [
    "fragment_code = \"\"\"\n",
    "        uniform vec4 color;\n",
    "        void main(){\n",
    "            gl_FragColor = color;\n",
    "        }\n",
    "        \"\"\""
   ]
  },
  {
   "cell_type": "markdown",
   "metadata": {},
   "source": [
    "### Requisitando slot para a GPU para nossos programas Vertex e Fragment Shaders"
   ]
  },
  {
   "cell_type": "code",
   "execution_count": 68,
   "metadata": {},
   "outputs": [],
   "source": [
    "# Request a program and shader slots from GPU\n",
    "program  = glCreateProgram()\n",
    "vertex   = glCreateShader(GL_VERTEX_SHADER)\n",
    "fragment = glCreateShader(GL_FRAGMENT_SHADER)\n"
   ]
  },
  {
   "cell_type": "markdown",
   "metadata": {},
   "source": [
    "### Associando nosso código-fonte aos slots solicitados"
   ]
  },
  {
   "cell_type": "code",
   "execution_count": 69,
   "metadata": {},
   "outputs": [],
   "source": [
    "# Set shaders source\n",
    "glShaderSource(vertex, vertex_code)\n",
    "glShaderSource(fragment, fragment_code)"
   ]
  },
  {
   "cell_type": "markdown",
   "metadata": {},
   "source": [
    "### Compilando o Vertex Shader\n",
    "\n",
    "Se há algum erro em nosso programa Vertex Shader, nosso app para por aqui."
   ]
  },
  {
   "cell_type": "code",
   "execution_count": 70,
   "metadata": {},
   "outputs": [],
   "source": [
    "# Compile shaders\n",
    "glCompileShader(vertex)\n",
    "if not glGetShaderiv(vertex, GL_COMPILE_STATUS):\n",
    "    error = glGetShaderInfoLog(vertex).decode()\n",
    "    print(error)\n",
    "    raise RuntimeError(\"Erro de compilacao do Vertex Shader\")\n"
   ]
  },
  {
   "cell_type": "markdown",
   "metadata": {},
   "source": [
    "### Compilando o Fragment Shader\n",
    "\n",
    "Se há algum erro em nosso programa Fragment Shader, nosso app para por aqui."
   ]
  },
  {
   "cell_type": "code",
   "execution_count": 71,
   "metadata": {},
   "outputs": [],
   "source": [
    "glCompileShader(fragment)\n",
    "if not glGetShaderiv(fragment, GL_COMPILE_STATUS):\n",
    "    error = glGetShaderInfoLog(fragment).decode()\n",
    "    print(error)\n",
    "    raise RuntimeError(\"Erro de compilacao do Fragment Shader\")"
   ]
  },
  {
   "cell_type": "markdown",
   "metadata": {},
   "source": [
    "### Associando os programas compilado ao programa principal"
   ]
  },
  {
   "cell_type": "code",
   "execution_count": 72,
   "metadata": {},
   "outputs": [],
   "source": [
    "# Attach shader objects to the program\n",
    "glAttachShader(program, vertex)\n",
    "glAttachShader(program, fragment)\n"
   ]
  },
  {
   "cell_type": "markdown",
   "metadata": {},
   "source": [
    "### Linkagem do programa"
   ]
  },
  {
   "cell_type": "code",
   "execution_count": 73,
   "metadata": {},
   "outputs": [],
   "source": [
    "# Build program\n",
    "glLinkProgram(program)\n",
    "if not glGetProgramiv(program, GL_LINK_STATUS):\n",
    "    print(glGetProgramInfoLog(program))\n",
    "    raise RuntimeError('Linking error')\n",
    "    \n",
    "# Make program the default program\n",
    "glUseProgram(program)"
   ]
  },
  {
   "cell_type": "markdown",
   "metadata": {},
   "source": [
    "### Classe do Objeto"
   ]
  },
  {
   "cell_type": "code",
   "execution_count": 74,
   "metadata": {},
   "outputs": [],
   "source": [
    "#matriz identidade\n",
    "identity = np.array([1.0,  0.0, 0.0,     0, \n",
    "                    0.0,    1.0,   0.0, 0, \n",
    "                    0.0,    0.0,   1.0, 0, \n",
    "                    0.0,    0.0,   0.0, 1.0], np.float32)\n",
    "\n",
    "def multiplica_matriz(a,b):\n",
    "    m_a = a.reshape(4,4)\n",
    "    m_b = b.reshape(4,4)\n",
    "    m_c = np.dot(m_a,m_b)\n",
    "    c = m_c.reshape(1,16)\n",
    "    return c\n",
    "\n",
    "#soma o valor das 2 coordenadas\n",
    "#coord1: list[3]\n",
    "#coord2: list[3]\n",
    "def sum_coord(coord1, coord2):\n",
    "    return [coord1[0]+coord2[0], coord1[1]+coord2[1], coord1[2]+coord2[2]]\n",
    "\n",
    "\n",
    "\n",
    "\n",
    "class Object:\n",
    "    #vertices = coordenadas dos vertices\n",
    "    #cor = lista de cores\n",
    "    #indice_cor = lista de tupla (vertice de inicio de um cor, quantos vertices esse cor tem)\n",
    "    #transform = matriz de transformacao\n",
    "    #coord = coordenadas do centro\n",
    "    def __init__(self,vertices = [], color = [[0,0,0,0]], indice_color = [[0,0]], transform = identity, coordinate = [0,0,0]):\n",
    "        self.vertices = vertices\n",
    "        self.color = color\n",
    "        self.indice_color = indice_color\n",
    "        self.transform = transform\n",
    "        self.coord = coordinate\n",
    "\n",
    "    \n",
    "    #retorna a coordenada do centro do objeto e a matriz transladada\n",
    "    #retorna o matriz de transicao \n",
    "    #translate_coord: float[3]\n",
    "    def translate(self, translate_coord):\n",
    "        mat_translation = np.array([1.0,  0.0, 0.0, translate_coord[0], \n",
    "                                    0.0,    1.0,   0.0, translate_coord[1], \n",
    "                                    0.0,    0.0,   1.0, translate_coord[2], \n",
    "                                    0.0,    0.0,   0.0, 1.0], np.float32)\n",
    "        self.coord = sum_coord(self.coord,translate_coord)\n",
    "        self.transform = multiplica_matriz(mat_translation, self.transform)\n",
    "\n",
    "    #retorna matriz rotacionada\n",
    "    #rot_coord: float[3]\n",
    "    def rotate(self, rot_coord):\n",
    "        #calculo do cos/sen\n",
    "        cos_x = math.cos(rot_coord[0])\n",
    "        sin_x = math.sin(rot_coord[0])\n",
    "        cos_y = math.cos(rot_coord[1])\n",
    "        sin_y = math.sin(rot_coord[1])\n",
    "        cos_z = math.cos(rot_coord[2])\n",
    "        sin_z = math.sin(rot_coord[2])\n",
    "\n",
    "        #matrizes\n",
    "        mat_rotation_z = np.array([cos_z, -sin_z, 0.0, 0.0, \n",
    "                                    sin_z,  cos_z, 0.0, 0.0, \n",
    "                                    0.0,      0.0, 1.0, 0.0, \n",
    "                                    0.0,      0.0, 0.0, 1.0], np.float32)\n",
    "        mat_rotation_x = np.array([1.0,   0.0,    0.0, 0.0, \n",
    "                                    0.0, cos_x, -sin_x, 0.0, \n",
    "                                    0.0, sin_x,  cos_x, 0.0, \n",
    "                                    0.0,   0.0,    0.0, 1.0], np.float32)\n",
    "            \n",
    "        mat_rotation_y = np.array([cos_y,  0.0, sin_y, 0.0, \n",
    "                                    0.0,    1.0,   0.0, 0.0, \n",
    "                                    -sin_y, 0.0, cos_y, 0.0, \n",
    "                                    0.0,    0.0,   0.0, 1.0], np.float32)\n",
    "        \n",
    "        #multiplicacao de matrizes\n",
    "        minus_center = [-1 * x for x in self.coord]\n",
    "        _,temp = self.translate(minus_center)\n",
    "        self.transform = multiplica_matriz(temp,self.transform)\n",
    "        self.transform = multiplica_matriz(mat_rotation_z,self.transform)\n",
    "        self.transform = multiplica_matriz(mat_rotation_x,self.transform)\n",
    "        self.transform = multiplica_matriz(mat_rotation_y,self.transform)\n",
    "        _,temp = self.translate(self.coord)\n",
    "        self.transform = multiplica_matriz(temp,self.transform)\n",
    "\n",
    "\n",
    "    #retorna o matriz escalada\n",
    "    #scale_coord: float[3]\n",
    "    def scale(self,scale_coord):\n",
    "        #matrizes\n",
    "        mat_scale = np.array([scale_coord[0], 0.0, 0.0, 0.0, \n",
    "                                0.0,  scale_coord[1], 0.0, 0.0, \n",
    "                                0.0,      0.0, scale_coord[2], 0.0, \n",
    "                                0.0,      0.0, 0.0, 1.0], np.float32)\n",
    "        \n",
    "        #multiplicacao de matrizes\n",
    "        minus_center = [-1 * x for x in self.coord]\n",
    "        _,temp = self.translate(minus_center)\n",
    "        self.trasform = multiplica_matriz(temp,self.trasform)\n",
    "        self.trasform = multiplica_matriz(mat_scale,self.trasform)\n",
    "        _,temp = self.translate(self.coord)\n",
    "        self.trasform = multiplica_matriz(temp,self.trasform)\n",
    "\n",
    "    #renderiza o objeto\n",
    "    def render(self):\n",
    "        #envia o matriz de transformacao para shader\n",
    "        loc_transformation = glGetUniformLocation(program, \"mat_transformation\")\n",
    "        glUniformMatrix4fv(loc_transformation, 1, GL_TRUE, self.transform)\n",
    "        for i in range(0,len(self.color)):\n",
    "            #cor\n",
    "            glUniform4f(loc_color, self.color[i][0], self.color[i][1], self.color[i][2], self.color[i][3])\n",
    "            #desenha   \n",
    "            glDrawArrays(GL_TRIANGLE_STRIP, self.indice_color[i][0], self.indice_color[i][1])"
   ]
  },
  {
   "cell_type": "markdown",
   "metadata": {},
   "source": [
    "### Preparando dados para enviar a GPU\n",
    "\n",
    "Até aqui, compilamos nossos Shaders para que a GPU possa processá-los.\n",
    "\n",
    "Por outro lado, as informações de vértices geralmente estão na CPU e devem ser transmitidas para a GPU.\n"
   ]
  },
  {
   "cell_type": "code",
   "execution_count": 75,
   "metadata": {},
   "outputs": [],
   "source": [
    "#variaveis\n",
    "total_vertices = 0 #numero total de vertices\n",
    "vertices_list = [] #lista de coordenadas de vertices da forma (x,y,z)\n",
    "\n",
    "#chao\n",
    "chao_altura = -0.3\n",
    "chao_marrom_vertice = [(-1,-1,-1),(1,-1,-1),(-1,chao_altura,-1),(1,chao_altura,-1)]\n",
    "chao_marrom = Object(chao_marrom_vertice,\n",
    "                     [[0.22,0.10,0,1]],\n",
    "                     [[total_vertices,total_vertices+len(chao_marrom_vertice)]]\n",
    "                     )\n",
    "total_vertices += len(chao_marrom_vertice)\n",
    "vertices_list.extend(chao_marrom_vertice)\n",
    "\n",
    "chao_verde_vertice = [(-1,1,-1),(1,1,-1),(-1,chao_altura,-1),(1,chao_altura,-1)]\n",
    "chao_verde = Object(chao_verde_vertice,\n",
    "                     [[0.16,0.33,0,1]],\n",
    "                     [[total_vertices,total_vertices+len(chao_verde_vertice)]]\n",
    "                     )\n",
    "total_vertices += len(chao_verde_vertice)\n",
    "vertices_list.extend(chao_verde_vertice)\n",
    "\n",
    "\n",
    "#transformacao para np.array\n",
    "vertices = np.zeros(total_vertices, [(\"position\", np.float32, 3)])\n",
    "vertices['position'] = np.array(vertices_list)\n"
   ]
  },
  {
   "cell_type": "markdown",
   "metadata": {},
   "source": [
    "### Para enviar nossos dados da CPU para a GPU, precisamos requisitar um slot (buffer)."
   ]
  },
  {
   "cell_type": "code",
   "execution_count": 76,
   "metadata": {},
   "outputs": [],
   "source": [
    "# Request a buffer slot from GPU\n",
    "buffer_VBO = glGenBuffers(1)\n",
    "# Make this buffer the default one\n",
    "glBindBuffer(GL_ARRAY_BUFFER, buffer_VBO)\n"
   ]
  },
  {
   "cell_type": "markdown",
   "metadata": {},
   "source": [
    "### Abaixo, nós enviamos todo o conteúdo da variável vertices.\n",
    "\n",
    "Veja os parâmetros da função glBufferData [https://www.khronos.org/registry/OpenGL-Refpages/gl4/html/glBufferData.xhtml]"
   ]
  },
  {
   "cell_type": "code",
   "execution_count": 77,
   "metadata": {},
   "outputs": [],
   "source": [
    "# Upload data\n",
    "glBufferData(GL_ARRAY_BUFFER, vertices.nbytes, vertices, GL_DYNAMIC_DRAW)\n",
    "glBindBuffer(GL_ARRAY_BUFFER, buffer_VBO)"
   ]
  },
  {
   "cell_type": "markdown",
   "metadata": {},
   "source": [
    "### Associando variáveis do programa GLSL (Vertex Shader) com nossos dados\n",
    "\n",
    "Primeiro, definimos o byte inicial e o offset dos dados."
   ]
  },
  {
   "cell_type": "code",
   "execution_count": 78,
   "metadata": {},
   "outputs": [],
   "source": [
    "# Bind the position attribute\n",
    "# --------------------------------------\n",
    "stride = vertices.strides[0]\n",
    "offset = ctypes.c_void_p(0)\n"
   ]
  },
  {
   "cell_type": "markdown",
   "metadata": {},
   "source": [
    "Em seguida, soliciamos à GPU a localização da variável \"position\" (que guarda coordenadas dos nossos vértices). Nós definimos essa variável no Vertex Shader."
   ]
  },
  {
   "cell_type": "code",
   "execution_count": 79,
   "metadata": {},
   "outputs": [],
   "source": [
    "loc = glGetAttribLocation(program, \"position\")\n",
    "glEnableVertexAttribArray(loc)"
   ]
  },
  {
   "cell_type": "markdown",
   "metadata": {},
   "source": [
    "A partir da localização anterior, nós indicamos à GPU onde está o conteúdo (via posições stride/offset) para a variável position (aqui identificada na posição loc).\n",
    "\n",
    "Outros parâmetros:\n",
    "\n",
    "* Definimos que possui <b> três </b> coordenadas\n",
    "* Que cada coordenada é do tipo float (GL_FLOAT)\n",
    "* Que não se deve normalizar a coordenada (False)\n",
    "\n",
    "Mais detalhes: https://www.khronos.org/registry/OpenGL-Refpages/gl4/html/glVertexAttribPointer.xhtml"
   ]
  },
  {
   "cell_type": "code",
   "execution_count": 80,
   "metadata": {},
   "outputs": [],
   "source": [
    "glVertexAttribPointer(loc, 3, GL_FLOAT, False, stride, offset)"
   ]
  },
  {
   "cell_type": "markdown",
   "metadata": {},
   "source": [
    "### Vamos pegar a localização da variável color para que possamos definir a cor em nosso laço da janela!"
   ]
  },
  {
   "cell_type": "code",
   "execution_count": 81,
   "metadata": {},
   "outputs": [],
   "source": [
    "loc_color = glGetUniformLocation(program, \"color\")"
   ]
  },
  {
   "cell_type": "markdown",
   "metadata": {},
   "source": [
    "### Capturando eventos de teclado e modificando variáveis para a matriz de transformação"
   ]
  },
  {
   "cell_type": "code",
   "execution_count": 82,
   "metadata": {},
   "outputs": [],
   "source": [
    "#codigo dos keys\n",
    "KEY_P = 80\n",
    "\n",
    "#variaveis\n",
    "isMalha = False\n",
    "\n",
    "def key_event(window,key,scancode,action,mods):\n",
    "    global isMalha\n",
    "    \n",
    "    if key == KEY_P and action == glfw.PRESS: isMalha = not isMalha #malha\n",
    "           \n",
    "glfw.set_key_callback(window,key_event)"
   ]
  },
  {
   "cell_type": "markdown",
   "metadata": {},
   "source": [
    "### Nesse momento, nós exibimos a janela!\n"
   ]
  },
  {
   "cell_type": "code",
   "execution_count": 83,
   "metadata": {},
   "outputs": [],
   "source": [
    "glfw.show_window(window)"
   ]
  },
  {
   "cell_type": "markdown",
   "metadata": {},
   "source": [
    "### Loop principal da janela."
   ]
  },
  {
   "cell_type": "code",
   "execution_count": 84,
   "metadata": {},
   "outputs": [],
   "source": [
    "glEnable(GL_DEPTH_TEST) ### importante para 3D\n",
    "\n",
    "#variaveis\n",
    "\n",
    "\n",
    "#transformacoes iniciais\n",
    "\n",
    "\n",
    "\n",
    "while not glfw.window_should_close(window):\n",
    "\n",
    "    #reset canvas\n",
    "    glClear(GL_COLOR_BUFFER_BIT | GL_DEPTH_BUFFER_BIT)    \n",
    "    glClearColor(1.0, 1.0, 1.0, 1.0)\n",
    "\n",
    "    #representacao em malha\n",
    "    if isMalha:\n",
    "        glPolygonMode(GL_FRONT_AND_BACK,GL_LINE)\n",
    "    else: \n",
    "        glPolygonMode(GL_FRONT_AND_BACK,GL_FILL)\n",
    "\n",
    "    #chao\n",
    "    chao_marrom.render()\n",
    "    chao_verde.render()\n",
    "    \n",
    "    glfw.swap_buffers(window)\n",
    "    glfw.poll_events()\n",
    "\n",
    "glfw.terminate()"
   ]
  }
 ],
 "metadata": {
  "finalized": {
   "timestamp": 1583114796072,
   "trusted": true
  },
  "kernelspec": {
   "display_name": "Python 3",
   "language": "python",
   "name": "python3"
  },
  "language_info": {
   "codemirror_mode": {
    "name": "ipython",
    "version": 3
   },
   "file_extension": ".py",
   "mimetype": "text/x-python",
   "name": "python",
   "nbconvert_exporter": "python",
   "pygments_lexer": "ipython3",
   "version": "3.12.3"
  }
 },
 "nbformat": 4,
 "nbformat_minor": 4
}
